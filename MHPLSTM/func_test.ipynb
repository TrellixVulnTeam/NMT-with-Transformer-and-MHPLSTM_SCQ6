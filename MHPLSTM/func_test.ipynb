{
 "cells": [
  {
   "cell_type": "code",
   "execution_count": 1,
   "metadata": {},
   "outputs": [
    {
     "name": "stdout",
     "output_type": "stream",
     "text": [
      "tensor([[1, 2, 3],\n",
      "        [0, 3, 4],\n",
      "        [1, 0, 3]])\n",
      "torch.Size([3, 3])\n",
      "tensor([[[ True,  True,  True]],\n",
      "\n",
      "        [[False,  True,  True]],\n",
      "\n",
      "        [[ True, False,  True]]])\n",
      "torch.Size([3, 1, 3])\n",
      "tensor([[[ True, False, False],\n",
      "         [ True,  True, False],\n",
      "         [ True,  True,  True]]])\n",
      "torch.Size([1, 3, 3])\n"
     ]
    }
   ],
   "source": [
    "import torch\n",
    "import numpy\n",
    "\n",
    "def get_pad_mask(seq, pad_idx):\n",
    "    return (seq != pad_idx).unsqueeze(-2)\n",
    "\n",
    "def get_subsequent_mask(seq):\n",
    "    \"\"\"For masking out the subsequent info.\"\"\"\n",
    "    sz_b, len_s = seq.size()\n",
    "    subsequent_mask = (1 - torch.triu(\n",
    "        torch.ones((1, len_s, len_s), device=seq.device), diagonal=1)).bool()\n",
    "    \n",
    "    return subsequent_mask\n",
    "\n",
    "X = torch.tensor([[1, 2, 3], [0, 3, 4], [1, 0, 3]])\n",
    "print(X)\n",
    "print(X.shape)\n",
    "Y = get_pad_mask(X, 0)\n",
    "print(Y)\n",
    "print(Y.shape)\n",
    "Z = get_subsequent_mask(X)\n",
    "print(Z)\n",
    "print(Z.shape)"
   ]
  },
  {
   "cell_type": "code",
   "execution_count": 2,
   "metadata": {},
   "outputs": [
    {
     "name": "stdout",
     "output_type": "stream",
     "text": [
      "X.shape:  torch.Size([16, 256, 128])\n",
      "X_steps size: 256\n",
      "X_steps[0].shape:  torch.Size([16, 128])\n",
      "X_steps[0]:  tensor([[0.2819, 0.0169, 0.9211,  ..., 0.6987, 0.1143, 0.4208],\n",
      "        [0.3745, 0.3468, 0.9360,  ..., 0.6076, 0.2222, 0.8276],\n",
      "        [0.2868, 0.0114, 0.7942,  ..., 0.2099, 0.5915, 0.7888],\n",
      "        ...,\n",
      "        [0.9203, 0.1610, 0.0179,  ..., 0.3154, 0.8679, 0.6536],\n",
      "        [0.0091, 0.2517, 0.0125,  ..., 0.4794, 0.4094, 0.9625],\n",
      "        [0.5499, 0.8150, 0.7648,  ..., 0.2280, 0.6088, 0.5262]])\n"
     ]
    }
   ],
   "source": [
    "X = torch.rand((16, 256, 128))\n",
    "print(\"X.shape: \", X.shape)\n",
    "# X = X.transpose(0, 1)\n",
    "X_steps = X.chunk(256, 1)\n",
    "X_steps = [sample.squeeze(1) for sample in X_steps]\n",
    "print(\"X_steps size:\", len(X_steps))\n",
    "print(\"X_steps[0].shape: \", X_steps[0].shape)\n",
    "print(\"X_steps[0]: \", X_steps[0])"
   ]
  },
  {
   "cell_type": "code",
   "execution_count": 4,
   "metadata": {},
   "outputs": [
    {
     "name": "stdout",
     "output_type": "stream",
     "text": [
      "preprocessing data:\n",
      "tensor([[ 0.,  0.,  0.,  0.,  0.,  0.,  0.,  0.,  0.,  0.,  0.,  0.,  3.],\n",
      "        [ 0.,  0.,  0.,  1.,  0.,  0.,  0.,  0.,  0.,  0.,  0.,  0.,  6.],\n",
      "        [ 0.,  0.,  0.,  1.,  0.,  0.,  1.,  0.,  0.,  0.,  0.,  0., 10.],\n",
      "        [ 0.,  0.,  0.,  1.,  0.,  0.,  1.,  0.,  0.,  0.,  1.,  0.,  5.],\n",
      "        [ 0.,  0.,  0.,  1.,  0.,  1.,  1.,  0.,  0.,  0.,  1.,  0.,  1.],\n",
      "        [ 0.,  1.,  0.,  1.,  0.,  1.,  1.,  0.,  0.,  0.,  1.,  0.,  4.],\n",
      "        [ 0.,  1.,  0.,  1.,  1.,  1.,  1.,  0.,  0.,  0.,  1.,  0., 11.],\n",
      "        [ 0.,  1.,  0.,  1.,  1.,  1.,  1.,  0.,  0.,  0.,  1.,  1.,  7.],\n",
      "        [ 0.,  1.,  0.,  1.,  1.,  1.,  1.,  1.,  0.,  0.,  1.,  1.,  1.],\n",
      "        [ 0.,  2.,  0.,  1.,  1.,  1.,  1.,  1.,  0.,  0.,  1.,  1.,  1.],\n",
      "        [ 0.,  3.,  0.,  1.,  1.,  1.,  1.,  1.,  0.,  0.,  1.,  1.,  1.],\n",
      "        [ 0.,  4.,  0.,  1.,  1.,  1.,  1.,  1.,  0.,  0.,  1.,  1., 12.]],\n",
      "       dtype=torch.float64)\n"
     ]
    }
   ],
   "source": [
    "from BagOfWords import *\n",
    "sentences = [\n",
    "    'Game of Thrones is an amazing tv series!',\n",
    "    'Game of Thrones is the best tv series!',\n",
    "    'Game of Thrones is so great']\n",
    "bow = BagOfWord(sentences)\n",
    "print(\"preprocessing data:\")\n",
    "input = 'Game of Thrones is an great tv series! an an an abc'\n",
    "output = bow(input)\n",
    "print(output)"
   ]
  },
  {
   "cell_type": "code",
   "execution_count": null,
   "metadata": {},
   "outputs": [],
   "source": []
  }
 ],
 "metadata": {
  "interpreter": {
   "hash": "cceba70ee793f7bf18f36682d928c8f947b789467867bbf028c4d87177e69b0a"
  },
  "kernelspec": {
   "display_name": "Python 3.9.7 ('base')",
   "language": "python",
   "name": "python3"
  },
  "language_info": {
   "codemirror_mode": {
    "name": "ipython",
    "version": 3
   },
   "file_extension": ".py",
   "mimetype": "text/x-python",
   "name": "python",
   "nbconvert_exporter": "python",
   "pygments_lexer": "ipython3",
   "version": "3.9.7"
  },
  "orig_nbformat": 4
 },
 "nbformat": 4,
 "nbformat_minor": 2
}
