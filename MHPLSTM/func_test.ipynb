{
 "cells": [
  {
   "cell_type": "code",
   "execution_count": 6,
   "metadata": {},
   "outputs": [
    {
     "name": "stdout",
     "output_type": "stream",
     "text": [
      "tensor([[1, 2, 3],\n",
      "        [0, 3, 4],\n",
      "        [1, 0, 3]])\n",
      "torch.Size([3, 3])\n",
      "tensor([[[ True,  True,  True]],\n",
      "\n",
      "        [[False,  True,  True]],\n",
      "\n",
      "        [[ True, False,  True]]])\n",
      "torch.Size([3, 1, 3])\n",
      "tensor([[[ True, False, False],\n",
      "         [ True,  True, False],\n",
      "         [ True,  True,  True]]])\n",
      "torch.Size([1, 3, 3])\n"
     ]
    }
   ],
   "source": [
    "import torch\n",
    "import numpy\n",
    "\n",
    "def get_pad_mask(seq, pad_idx):\n",
    "    return (seq != pad_idx).unsqueeze(-2)\n",
    "\n",
    "def get_subsequent_mask(seq):\n",
    "    \"\"\"For masking out the subsequent info.\"\"\"\n",
    "    sz_b, len_s = seq.size()\n",
    "    subsequent_mask = (1 - torch.triu(\n",
    "        torch.ones((1, len_s, len_s), device=seq.device), diagonal=1)).bool()\n",
    "    \n",
    "    return subsequent_mask\n",
    "\n",
    "X = torch.tensor([[1, 2, 3], [0, 3, 4], [1, 0, 3]])\n",
    "print(X)\n",
    "print(X.shape)\n",
    "Y = get_pad_mask(X, 0)\n",
    "print(Y)\n",
    "print(Y.shape)\n",
    "Z = get_subsequent_mask(X)\n",
    "print(Z)\n",
    "print(Z.shape)"
   ]
  },
  {
   "cell_type": "code",
   "execution_count": null,
   "metadata": {},
   "outputs": [],
   "source": []
  }
 ],
 "metadata": {
  "interpreter": {
   "hash": "cceba70ee793f7bf18f36682d928c8f947b789467867bbf028c4d87177e69b0a"
  },
  "kernelspec": {
   "display_name": "Python 3.9.7 ('base')",
   "language": "python",
   "name": "python3"
  },
  "language_info": {
   "codemirror_mode": {
    "name": "ipython",
    "version": 3
   },
   "file_extension": ".py",
   "mimetype": "text/x-python",
   "name": "python",
   "nbconvert_exporter": "python",
   "pygments_lexer": "ipython3",
   "version": "3.9.7"
  },
  "orig_nbformat": 4
 },
 "nbformat": 4,
 "nbformat_minor": 2
}
