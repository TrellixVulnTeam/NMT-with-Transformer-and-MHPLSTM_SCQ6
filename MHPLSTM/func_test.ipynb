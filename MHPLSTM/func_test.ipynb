{
 "cells": [
  {
   "cell_type": "code",
   "execution_count": 1,
   "metadata": {},
   "outputs": [
    {
     "name": "stdout",
     "output_type": "stream",
     "text": [
      "tensor([[1, 2, 3],\n",
      "        [0, 3, 4],\n",
      "        [1, 0, 3]])\n",
      "torch.Size([3, 3])\n",
      "tensor([[[ True,  True,  True]],\n",
      "\n",
      "        [[False,  True,  True]],\n",
      "\n",
      "        [[ True, False,  True]]])\n",
      "torch.Size([3, 1, 3])\n",
      "tensor([[[ True, False, False],\n",
      "         [ True,  True, False],\n",
      "         [ True,  True,  True]]])\n",
      "torch.Size([1, 3, 3])\n"
     ]
    }
   ],
   "source": [
    "import torch\n",
    "import numpy\n",
    "\n",
    "def get_pad_mask(seq, pad_idx):\n",
    "    return (seq != pad_idx).unsqueeze(-2)\n",
    "\n",
    "def get_subsequent_mask(seq):\n",
    "    \"\"\"For masking out the subsequent info.\"\"\"\n",
    "    sz_b, len_s = seq.size()\n",
    "    subsequent_mask = (1 - torch.triu(\n",
    "        torch.ones((1, len_s, len_s), device=seq.device), diagonal=1)).bool()\n",
    "    \n",
    "    return subsequent_mask\n",
    "\n",
    "X = torch.tensor([[1, 2, 3], [0, 3, 4], [1, 0, 3]])\n",
    "print(X)\n",
    "print(X.shape)\n",
    "Y = get_pad_mask(X, 0)\n",
    "print(Y)\n",
    "print(Y.shape)\n",
    "Z = get_subsequent_mask(X)\n",
    "print(Z)\n",
    "print(Z.shape)"
   ]
  },
  {
   "cell_type": "code",
   "execution_count": 2,
   "metadata": {},
   "outputs": [
    {
     "name": "stdout",
     "output_type": "stream",
     "text": [
      "X.shape:  torch.Size([16, 256, 128])\n",
      "X_steps size: 256\n",
      "X_steps[0].shape:  torch.Size([16, 128])\n",
      "X_steps[0]:  tensor([[0.1162, 0.8061, 0.8392,  ..., 0.1928, 0.5298, 0.9624],\n",
      "        [0.9531, 0.3707, 0.3462,  ..., 0.8726, 0.8356, 0.2774],\n",
      "        [0.3794, 0.8660, 0.6447,  ..., 0.3528, 0.7741, 0.8680],\n",
      "        ...,\n",
      "        [0.6861, 0.2432, 0.6732,  ..., 0.5059, 0.7247, 0.0567],\n",
      "        [0.6160, 0.7700, 0.2920,  ..., 0.9479, 0.4963, 0.5042],\n",
      "        [0.6372, 0.1501, 0.6515,  ..., 0.0273, 0.0735, 0.4761]])\n"
     ]
    }
   ],
   "source": [
    "X = torch.rand((16, 256, 128))\n",
    "print(\"X.shape: \", X.shape)\n",
    "# X = X.transpose(0, 1)\n",
    "X_steps = X.chunk(256, 1)\n",
    "X_steps = [sample.squeeze(1) for sample in X_steps]\n",
    "print(\"X_steps size:\", len(X_steps))\n",
    "print(\"X_steps[0].shape: \", X_steps[0].shape)\n",
    "print(\"X_steps[0]: \", X_steps[0])"
   ]
  },
  {
   "cell_type": "code",
   "execution_count": 3,
   "metadata": {},
   "outputs": [
    {
     "name": "stdout",
     "output_type": "stream",
     "text": [
      "preprocessing data:\n",
      "i_vectors:\n",
      "[tensor([[0., 0., 0., 1., 0., 0., 0., 0., 0., 0., 0., 0.]]), tensor([[0., 0., 0., 0., 0., 0., 1., 0., 0., 0., 0., 0.]]), tensor([[0., 0., 0., 0., 0., 0., 0., 0., 0., 0., 1., 0.]]), tensor([[0., 0., 0., 0., 0., 1., 0., 0., 0., 0., 0., 0.]]), tensor([[0., 1., 0., 0., 0., 0., 0., 0., 0., 0., 0., 0.]]), tensor([[0., 0., 0., 0., 1., 0., 0., 0., 0., 0., 0., 0.]]), tensor([[0., 0., 0., 0., 0., 0., 0., 0., 0., 0., 0., 1.]]), tensor([[0., 0., 0., 0., 0., 0., 0., 1., 0., 0., 0., 0.]]), tensor([[0., 1., 0., 0., 0., 0., 0., 0., 0., 0., 0., 0.]]), tensor([[0., 1., 0., 0., 0., 0., 0., 0., 0., 0., 0., 0.]]), tensor([[0., 1., 0., 0., 0., 0., 0., 0., 0., 0., 0., 0.]]), tensor([[0., 0., 0., 0., 0., 0., 0., 0., 0., 0., 0., 0.]])]\n",
      "s_vectors:\n",
      "[tensor([[0., 0., 0., 0., 0., 0., 0., 0., 0., 0., 0., 0.]]), tensor([[0., 0., 0., 1., 0., 0., 0., 0., 0., 0., 0., 0.]]), tensor([[0., 0., 0., 1., 0., 0., 1., 0., 0., 0., 0., 0.]]), tensor([[0., 0., 0., 1., 0., 0., 1., 0., 0., 0., 1., 0.]]), tensor([[0., 0., 0., 1., 0., 1., 1., 0., 0., 0., 1., 0.]]), tensor([[0., 1., 0., 1., 0., 1., 1., 0., 0., 0., 1., 0.]]), tensor([[0., 1., 0., 1., 1., 1., 1., 0., 0., 0., 1., 0.]]), tensor([[0., 1., 0., 1., 1., 1., 1., 0., 0., 0., 1., 1.]]), tensor([[0., 1., 0., 1., 1., 1., 1., 1., 0., 0., 1., 1.]]), tensor([[0., 2., 0., 1., 1., 1., 1., 1., 0., 0., 1., 1.]]), tensor([[0., 3., 0., 1., 1., 1., 1., 1., 0., 0., 1., 1.]]), tensor([[0., 4., 0., 1., 1., 1., 1., 1., 0., 0., 1., 1.]])]\n"
     ]
    }
   ],
   "source": [
    "from BagOfWords import *\n",
    "sentences = [\n",
    "    'Game of Thrones is an amazing tv series!',\n",
    "    'Game of Thrones is the best tv series!',\n",
    "    'Game of Thrones is so great']\n",
    "bow = BagOfWord(sentences)\n",
    "print(\"preprocessing data:\")\n",
    "input = 'Game of Thrones is an great tv series! an an an abc'\n",
    "output = bow(input)\n",
    "i_vectors, s_vectors = output\n",
    "print(\"i_vectors:\")\n",
    "print(i_vectors)\n",
    "print(\"s_vectors:\")\n",
    "print(s_vectors)"
   ]
  },
  {
   "cell_type": "code",
   "execution_count": 6,
   "metadata": {},
   "outputs": [
    {
     "name": "stdout",
     "output_type": "stream",
     "text": [
      "tensor([[0., 0., 0., 1., 0., 0., 0., 0., 0., 0., 0., 0., 0., 0., 0., 0., 0., 0.,\n",
      "         0., 0., 0., 0., 0., 0.]])\n",
      "torch.Size([1, 24])\n"
     ]
    }
   ],
   "source": [
    "v_vector = torch.cat((i_vectors[0], s_vectors[0]), dim=1)\n",
    "print(v_vector)\n",
    "print(v_vector.shape)"
   ]
  },
  {
   "cell_type": "code",
   "execution_count": 26,
   "metadata": {},
   "outputs": [
    {
     "name": "stdout",
     "output_type": "stream",
     "text": [
      "torch.Size([1, 3])\n",
      "torch.Size([3, 3])\n",
      "tensor([[1, 1, 1],\n",
      "        [2, 2, 2],\n",
      "        [3, 3, 3]])\n"
     ]
    }
   ],
   "source": [
    "x = torch.tensor([[1, 1, 1]])\n",
    "y = torch.tensor([[2, 2, 2]])\n",
    "z = torch.tensor([[3, 3, 3]])\n",
    "print(x.shape)\n",
    "t = torch.stack((x.squeeze(), y.squeeze(), z.squeeze()))\n",
    "print(t.shape)\n",
    "print(t)"
   ]
  },
  {
   "cell_type": "code",
   "execution_count": null,
   "metadata": {},
   "outputs": [],
   "source": []
  }
 ],
 "metadata": {
  "interpreter": {
   "hash": "cceba70ee793f7bf18f36682d928c8f947b789467867bbf028c4d87177e69b0a"
  },
  "kernelspec": {
   "display_name": "Python 3.9.7 ('base')",
   "language": "python",
   "name": "python3"
  },
  "language_info": {
   "codemirror_mode": {
    "name": "ipython",
    "version": 3
   },
   "file_extension": ".py",
   "mimetype": "text/x-python",
   "name": "python",
   "nbconvert_exporter": "python",
   "pygments_lexer": "ipython3",
   "version": "3.9.7"
  },
  "orig_nbformat": 4
 },
 "nbformat": 4,
 "nbformat_minor": 2
}
